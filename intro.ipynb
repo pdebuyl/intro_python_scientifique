{
 "metadata": {
  "celltoolbar": "Slideshow",
  "name": ""
 },
 "nbformat": 3,
 "nbformat_minor": 0,
 "worksheets": [
  {
   "cells": [
    {
     "cell_type": "heading",
     "level": 1,
     "metadata": {
      "slideshow": {
       "slide_type": "slide"
      }
     },
     "source": [
      "Une introduction \u00e0 Python pour les sciences"
     ]
    },
    {
     "cell_type": "markdown",
     "metadata": {
      "slideshow": {
       "slide_type": "-"
      }
     },
     "source": [
      "Where do we go next -- Formation Python MA2 Namur - F\u00e9vrier 2014\n",
      "----------------------------------------------------------------\n",
      "\n",
      "**Pierre de Buyl** pierre.debuyl@chem.kuleuven.be <http://homepages.ulb.ac.be/~pdebuyl/>  \n",
      "KU Leuven\n",
      "  \n",
      "License CC-BY http://creativecommons.org/licenses/by/4.0/\n"
     ]
    },
    {
     "cell_type": "markdown",
     "metadata": {
      "slideshow": {
       "slide_type": "subslide"
      }
     },
     "source": [
      "Remarques importantes\n",
      "---------------------\n",
      "\n",
      "- Cette pr\u00e9sentation est \u00e9crite dans un *Notebook* IPython.\n",
      "- Tous les exemples de code peuvent \u00eatre copi\u00e9s et coll\u00e9s dans un terminal ou un notebook IPython (apr\u00e8s requ\u00eate \"%pylab\").\n",
      "- Cette pr\u00e9sentation utilise Python 2 (Python 3 existe mais n'est pas celle utilis\u00e9e par d\u00e9faut)."
     ]
    },
    {
     "cell_type": "markdown",
     "metadata": {
      "slideshow": {
       "slide_type": "slide"
      }
     },
     "source": [
      "Python comme outil de calcul scientifique\n",
      "-----------------------------------------\n",
      "\n",
      "- Python est un language *g\u00e9n\u00e9raliste*.\n",
      "    - Il est n\u00e9cessaire d'utiliser (importer) les librairies scientifiques.\n",
      "    - Mais il est possible de faire \"tout\" avec Python.\n",
      "- Les outils Python sont open-source (et donc gratuits, mais le concept open-source va plus loin).\n",
      "- Il existe des alternatives open-source (R, octave, scilab, perl) ou payantes (Matlab, Mathematica). "
     ]
    },
    {
     "cell_type": "heading",
     "level": 1,
     "metadata": {
      "slideshow": {
       "slide_type": "slide"
      }
     },
     "source": [
      "Le language Python"
     ]
    },
    {
     "cell_type": "markdown",
     "metadata": {},
     "source": [
      "- Python est un language:\n",
      "    - *typ\u00e9 dynamiquement*\n",
      "    - *interpret\u00e9*\n",
      "    - *orient\u00e9 objet*\n",
      "- Par opposition:\n",
      "    - C et Fortran sont *compil\u00e9s* et *typ\u00e9s statiquement*\n",
      "  "
     ]
    },
    {
     "cell_type": "heading",
     "level": 2,
     "metadata": {
      "slideshow": {
       "slide_type": "slide"
      }
     },
     "source": [
      "Exemples"
     ]
    },
    {
     "cell_type": "code",
     "collapsed": false,
     "input": [
      "print print(\"Hello world!\")\n",
      "s = \"Hello, old brown fox.\"\n",
      "print s.upper()"
     ],
     "language": "python",
     "metadata": {
      "slideshow": {
       "slide_type": "-"
      }
     },
     "outputs": [
      {
       "output_type": "stream",
       "stream": "stdout",
       "text": [
        "Hello world!\n",
        "HELLO, OLD BROWN FOX.\n"
       ]
      }
     ],
     "prompt_number": 5
    },
    {
     "cell_type": "code",
     "collapsed": false,
     "input": [
      "def f(i):\n",
      "    return i**i**i\n",
      "print f(2)"
     ],
     "language": "python",
     "metadata": {
      "slideshow": {
       "slide_type": "-"
      }
     },
     "outputs": [
      {
       "output_type": "stream",
       "stream": "stdout",
       "text": [
        "16\n"
       ]
      }
     ],
     "prompt_number": 4
    },
    {
     "cell_type": "heading",
     "level": 2,
     "metadata": {
      "slideshow": {
       "slide_type": "slide"
      }
     },
     "source": [
      "Les variables"
     ]
    },
    {
     "cell_type": "markdown",
     "metadata": {},
     "source": [
      "Python poss\u00e8de des types bien d\u00e9finis"
     ]
    },
    {
     "cell_type": "code",
     "collapsed": false,
     "input": [
      "def print_type(x):\n",
      "    print \"%20s %s\" % (type(x), x)\n",
      "print_type(1)\n",
      "print_type(2**63)\n",
      "print_type(1.)\n",
      "print_type(True)\n",
      "print_type(1+1j)\n",
      "print_type('a')\n",
      "print_type([0,1])"
     ],
     "language": "python",
     "metadata": {},
     "outputs": [
      {
       "output_type": "stream",
       "stream": "stdout",
       "text": [
        "        <type 'int'> 1\n",
        "       <type 'long'> 9223372036854775808\n",
        "      <type 'float'> 1.0\n",
        "       <type 'bool'> True\n",
        "    <type 'complex'> (1+1j)\n",
        "        <type 'str'> a\n",
        "       <type 'list'> [0, 1]\n"
       ]
      }
     ],
     "prompt_number": 1
    },
    {
     "cell_type": "heading",
     "level": 2,
     "metadata": {
      "slideshow": {
       "slide_type": "subslide"
      }
     },
     "source": [
      "Les variables"
     ]
    },
    {
     "cell_type": "markdown",
     "metadata": {},
     "source": [
      "Le type de chaque variable est susceptible de changer, le language est \"typ\u00e9 dynamiquement\""
     ]
    },
    {
     "cell_type": "code",
     "collapsed": false,
     "input": [
      "a = 1\n",
      "print_type(a)\n",
      "a = a*0.5\n",
      "print_type(a)\n",
      "a = str(a)\n",
      "print_type(a)"
     ],
     "language": "python",
     "metadata": {},
     "outputs": [
      {
       "output_type": "stream",
       "stream": "stdout",
       "text": [
        "        <type 'int'> 1\n",
        "      <type 'float'> 0.5\n",
        "        <type 'str'> 0.5\n"
       ]
      }
     ],
     "prompt_number": 16
    },
    {
     "cell_type": "heading",
     "level": 2,
     "metadata": {
      "slideshow": {
       "slide_type": "subslide"
      }
     },
     "source": [
      "Les types de base"
     ]
    },
    {
     "cell_type": "markdown",
     "metadata": {},
     "source": [
      "Les types de base fournis par Python:\n",
      "\n",
      "- Nombres (entiers, entiers longs, bool\u00e9ens, r\u00e9els et complexes).\n",
      "- S\u00e9quences (listes, tuples, cha\u00eenes de caract\u00e8res).\n",
      "- None.\n",
      "- \"Callable\" (appelable, typiquement une fonction).\n"
     ]
    },
    {
     "cell_type": "markdown",
     "metadata": {
      "slideshow": {
       "slide_type": "slide"
      }
     },
     "source": [
      "Les op\u00e9rateurs\n",
      "--------------\n",
      "\n",
      "- Les op\u00e9rateurs arithm\u00e9tiques suivant sont d\u00e9finis:\n",
      "    - +, -, *, /, **, % (modulo).\n",
      "    - La division entre deux entiers retourne un entier (Python <= 2). Python 3 retourne un r\u00e9el.\n",
      "- Diviser par z\u00e9ro retourne une erreur.\n",
      "- Selon le type de donn\u00e9es, le comportement des op\u00e9rateurs peut changer: ajouter (+) deux cha\u00eenes de caract\u00e8res les joint l'une \u00e0 la suite de l'autre.\n",
      "\n"
     ]
    },
    {
     "cell_type": "code",
     "collapsed": false,
     "input": [
      "print 3/2\n",
      "print 3/0"
     ],
     "language": "python",
     "metadata": {
      "slideshow": {
       "slide_type": "subslide"
      }
     },
     "outputs": [
      {
       "ename": "ZeroDivisionError",
       "evalue": "integer division or modulo by zero",
       "output_type": "pyerr",
       "traceback": [
        "\u001b[1;31m---------------------------------------------------------------------------\u001b[0m\n\u001b[1;31mZeroDivisionError\u001b[0m                         Traceback (most recent call last)",
        "\u001b[1;32m<ipython-input-10-f4a1abdad23d>\u001b[0m in \u001b[0;36m<module>\u001b[1;34m()\u001b[0m\n\u001b[0;32m      1\u001b[0m \u001b[1;32mprint\u001b[0m \u001b[1;36m3\u001b[0m\u001b[1;33m/\u001b[0m\u001b[1;36m2\u001b[0m\u001b[1;33m\u001b[0m\u001b[0m\n\u001b[1;32m----> 2\u001b[1;33m \u001b[1;32mprint\u001b[0m \u001b[1;36m3\u001b[0m\u001b[1;33m/\u001b[0m\u001b[1;36m0\u001b[0m\u001b[1;33m\u001b[0m\u001b[0m\n\u001b[0m",
        "\u001b[1;31mZeroDivisionError\u001b[0m: integer division or modulo by zero"
       ]
      },
      {
       "output_type": "stream",
       "stream": "stdout",
       "text": [
        "1\n"
       ]
      }
     ],
     "prompt_number": 10
    },
    {
     "cell_type": "code",
     "collapsed": false,
     "input": [
      "print 1./0."
     ],
     "language": "python",
     "metadata": {
      "slideshow": {
       "slide_type": "-"
      }
     },
     "outputs": [
      {
       "ename": "ZeroDivisionError",
       "evalue": "float division by zero",
       "output_type": "pyerr",
       "traceback": [
        "\u001b[1;31m---------------------------------------------------------------------------\u001b[0m\n\u001b[1;31mZeroDivisionError\u001b[0m                         Traceback (most recent call last)",
        "\u001b[1;32m<ipython-input-11-ef4d6c596214>\u001b[0m in \u001b[0;36m<module>\u001b[1;34m()\u001b[0m\n\u001b[1;32m----> 1\u001b[1;33m \u001b[1;32mprint\u001b[0m \u001b[1;36m1.\u001b[0m\u001b[1;33m/\u001b[0m\u001b[1;36m0.\u001b[0m\u001b[1;33m\u001b[0m\u001b[0m\n\u001b[0m",
        "\u001b[1;31mZeroDivisionError\u001b[0m: float division by zero"
       ]
      }
     ],
     "prompt_number": 11
    },
    {
     "cell_type": "code",
     "collapsed": false,
     "input": [
      "print \"Premi\u00e8re partie\" + \" et \" + \"deuxi\u00e8me partie\"\n",
      "print [0, 1, 2] + [3, 4]\n",
      "print (0, 2, 4) + (6,)\n",
      "#print (10, 20, 30) + 40\n",
      "print (1,)*4"
     ],
     "language": "python",
     "metadata": {
      "slideshow": {
       "slide_type": "subslide"
      }
     },
     "outputs": [
      {
       "output_type": "stream",
       "stream": "stdout",
       "text": [
        "Premi\u00e8re partie et deuxi\u00e8me partie\n",
        "[0, 1, 2, 3, 4]\n",
        "(0, 2, 4, 6)\n",
        "(1, 1, 1, 1)\n"
       ]
      }
     ],
     "prompt_number": 30
    },
    {
     "cell_type": "code",
     "collapsed": false,
     "input": [
      "s0 = set([0, 1, 'python', 'science'])\n",
      "s1 = set([3, 1, 'science'])\n",
      "print s0 | s1\n",
      "print s0 & s1\n",
      "print s0 - s1\n",
      "print s0 ^ s1"
     ],
     "language": "python",
     "metadata": {
      "slideshow": {
       "slide_type": "subslide"
      }
     },
     "outputs": [
      {
       "output_type": "stream",
       "stream": "stdout",
       "text": [
        "set([0, 1, 3, 'python', 'science'])\n",
        "set([1, 'science'])\n",
        "set([0, 'python'])\n",
        "set([0, 'python', 3])\n"
       ]
      }
     ],
     "prompt_number": 33
    },
    {
     "cell_type": "markdown",
     "metadata": {
      "slideshow": {
       "slide_type": "slide"
      }
     },
     "source": [
      "Indentation et syntaxe\n",
      "----------------------\n",
      "\n",
      "- Le language Python n\u00e9cessite une indentation (nombre d'espaces blancs en d\u00e9but de ligne) contr\u00f4l\u00e9e.\n",
      "- Un d\u00e9calage en indentation indique un bloc de code.\n",
      "- Ce d\u00e9calage est n\u00e9cessaire lors:\n",
      "    - D'une d\u00e9finition de fonction.\n",
      "    - D'une d\u00e9finition de classe.\n",
      "    - D'une structure d'\u00e9x\u00e9cution (if-then-else, boucles).\n",
      "\n",
      "Mots r\u00e9serv\u00e9s par le language: and del from not while as elif global or with assert else if pass yield break except import print class exec in raise continue finally is return def for lambda try  \n",
      "Constantes r\u00e9serv\u00e9es: False, True, None, NotImplemented, Ellipsis, \\_\\_debug__\n"
     ]
    },
    {
     "cell_type": "markdown",
     "metadata": {
      "slideshow": {
       "slide_type": "subslide"
      }
     },
     "source": [
      "Fonctions\n",
      "---------\n",
      "\n",
      "\n",
      "    def f(var1, var2):\n",
      "        result = var1 + var2\n",
      "        return result\n",
      "\n",
      "- Le mot def est r\u00e9serv\u00e9 en Python.\n",
      "- Les : indiquent le d\u00e9but du bloc de d\u00e9finition.\n",
      "- Le mot result d\u00e9termine ce que renvoie la fonction.\n",
      "- L'indentation est identique dans le corps de la fonction.\n",
      "\n"
     ]
    },
    {
     "cell_type": "markdown",
     "metadata": {
      "slideshow": {
       "slide_type": "subslide"
      }
     },
     "source": [
      "Structure de contr\u00f4le if\n",
      "------------------------\n",
      "\n",
      "- On retrouve les : pour indiquer le bloc \"contr\u00f4l\u00e9\".\n",
      "- L'indentation d\u00e9termine le d\u00e9but et la fin du bloc.\n"
     ]
    },
    {
     "cell_type": "code",
     "collapsed": false,
     "input": [
      "if (x1 > x2):\n",
      "    print \"x1 est plus grand que x2\"\n",
      "else:\n",
      "    print \"x2 est plus grand que x1\""
     ],
     "language": "python",
     "metadata": {},
     "outputs": []
    },
    {
     "cell_type": "markdown",
     "metadata": {
      "slideshow": {
       "slide_type": "subslide"
      }
     },
     "source": [
      "Structure de contr\u00f4le for\n",
      "-------------------------\n",
      "\n",
      "- for permet de r\u00e9aliser une boucle sur n'importe quel it\u00e9rable: liste, s\u00e9quence 1D, \u2026\n",
      "- l'instruction range g\u00e9n\u00e8re une s\u00e9rie d'entiers cons\u00e9cutifs.\n"
     ]
    },
    {
     "cell_type": "code",
     "collapsed": false,
     "input": [
      "l = range(10)\n",
      "print l\n",
      "for i in l:\n",
      "    print i,"
     ],
     "language": "python",
     "metadata": {},
     "outputs": []
    },
    {
     "cell_type": "heading",
     "level": 2,
     "metadata": {
      "slideshow": {
       "slide_type": "slide"
      }
     },
     "source": [
      "Utiliser Python"
     ]
    },
    {
     "cell_type": "markdown",
     "metadata": {},
     "source": [
      "- Interpr\u00e9teur en ligne de commande\n",
      "    - Avec un fichier existant ``python program.py arguments``\n",
      "    - En mode interactif\n",
      "- Avec [IPython](http://ipython.org/)\n",
      "    - Dans un terminal\n",
      "    - Dans le *notebook*"
     ]
    },
    {
     "cell_type": "markdown",
     "metadata": {
      "slideshow": {
       "slide_type": "subslide"
      }
     },
     "source": [
      "Le terminal python \"normal\" est relativement universel (toutes plateformes, pas besoin d'interface graphique).\n",
      "\n",
      "Pour cr\u00e9er un programme Python, il faut utiliser un \u00e9diteur de fichier texte (pas un *Traitement de texte*). Exemples: Emacs, vi, gedit, nano, pico, kate, etc.\n",
      "\n",
      "Ouvrez un terminal\n",
      "\n",
      "    # shell\n",
      "    mkdir wdwg-python\n",
      "    cd wdwg-python\n",
      "    ls\n",
      "\n",
      "Ouvrez un \u00e9diteur de texte\n"
     ]
    },
    {
     "cell_type": "code",
     "collapsed": false,
     "input": [
      "def valeurabsolue(x):\n",
      "    \"\"\"Docstring: explique a quoi sert la fonction\n",
      "    Le \"corps\" de la fonction est d\u00e9limit\u00e9 par l'indentation!\n",
      "    \n",
      "    Cette fonction retourne la valeur absolue de x.\n",
      "    \"\"\"\n",
      "    if x<0:\n",
      "        # L'indentation d\u00e9limite \u00e9galement les blocs \"if\"\n",
      "        # return termine l'\u00e9x\u00e9cution de la fonction\n",
      "        return -x\n",
      "    else:\n",
      "        return x\n",
      "\n",
      "entier = -1\n",
      "print entier, valeurabsolue(entier)\n",
      "reel = 3.5\n",
      "print reel, valeurabsolue(reel)"
     ],
     "language": "python",
     "metadata": {
      "slideshow": {
       "slide_type": "subslide"
      }
     },
     "outputs": [
      {
       "output_type": "stream",
       "stream": "stdout",
       "text": [
        "-1 1\n",
        "3.5 3.5\n",
        "exemple exemple\n"
       ]
      }
     ],
     "prompt_number": 7
    },
    {
     "cell_type": "markdown",
     "metadata": {
      "slideshow": {
       "slide_type": "fragment"
      }
     },
     "source": [
      "la fonction accepte aussi bien un entier qu'un r\u00e9el"
     ]
    },
    {
     "cell_type": "heading",
     "level": 2,
     "metadata": {
      "slideshow": {
       "slide_type": "slide"
      }
     },
     "source": [
      "Programmation orient\u00e9e objet"
     ]
    },
    {
     "cell_type": "markdown",
     "metadata": {},
     "source": [
      "En Python, \"tout est un objet\".\n",
      "\n",
      "- Pour commencer on peut ignorer les objets.\n",
      "\n",
      "\"Crash course de programmation OO\"\n",
      "\n",
      "- Encapsulation des donn\u00e9es dans des classes.\n",
      "- Une classe d\u00e9finit \u00e9galement des m\u00e9thodes: ce sont des fonction qui s'appliquent \u00e0 une objet de la classe donn\u00e9e.\n",
      "- Une classe peut h\u00e9riter d'une autre classe et y ajouter des donn\u00e9es ou des m\u00e9thodes.\n",
      "- La programmation orient\u00e9e objet permet, dans certains cas, de reproduire de fa\u00e7on utile des propri\u00e9t\u00e9s d'un mod\u00e8le, d'une exp\u00e9rience, \u2026\n"
     ]
    },
    {
     "cell_type": "markdown",
     "metadata": {
      "slideshow": {
       "slide_type": "subslide"
      }
     },
     "source": [
      "Voici un exemple minimal de classe illustrant l'encapsulation de donn\u00e9es et l'utilisation d'une m\u00e9thode."
     ]
    },
    {
     "cell_type": "code",
     "collapsed": false,
     "input": [
      "class Model(object):\n",
      "    def __init__(self, T):\n",
      "        \"\"\"Initializes a model with temperature T\"\"\"\n",
      "        self.T = T\n",
      "    def get_status(self):\n",
      "        \"\"\"Prints system status.\"\"\"\n",
      "        if self.T>1:\n",
      "            print \"System is hot.\"\n",
      "        else:\n",
      "            print \"System is cold.\"\n",
      "\n",
      "M1 = Model(T=2.)\n",
      "M1.get_status()\n",
      "M2 = Model(T=0.5)\n",
      "M2.get_status()\n",
      "        "
     ],
     "language": "python",
     "metadata": {},
     "outputs": [
      {
       "output_type": "stream",
       "stream": "stdout",
       "text": [
        "System is hot.\n",
        "System is cold.\n"
       ]
      }
     ],
     "prompt_number": 3
    },
    {
     "cell_type": "markdown",
     "metadata": {
      "slideshow": {
       "slide_type": "subslide"
      }
     },
     "source": [
      "Les classes en Python\n",
      "---------------------\n",
      "\n",
      "- D\u00e9finition par le mot cl\u00e9 \"class\"\n",
      "- L'instantiation (cr\u00e9ation d'un objet de la classe) \u00e9x\u00e9cute la m\u00e9thode \"\\_\\_init__\"\n",
      "- Un objet est r\u00e9f\u00e9renc\u00e9 dans la classe par \"self\"\n",
      "- Les m\u00e9thodes d\u00e9finies dans la classe comme \"def method_name(self,...)\" sont des m\u00e9thodes li\u00e9es (bound method) de l'objet."
     ]
    },
    {
     "cell_type": "markdown",
     "metadata": {
      "slideshow": {
       "slide_type": "slide"
      }
     },
     "source": [
      "La librairie standard\n",
      "=====================\n",
      "\n",
      "- Python est toujours install\u00e9 avec un ensembles de librairies pour r\u00e9aliser des t\u00e2ches courantes.\n",
      "    - Manipulation de cha\u00eenes de caract\u00e8res.\n",
      "    - Fonctions math\u00e9matiques.\n",
      "    - Fonctions syst\u00e8mes.\n",
      "    - Bases de donn\u00e9es.\n",
      "    - Compression.\n",
      "    - R\u00e9seau.\n",
      "    - Interface graphique Tk.\n",
      "- Les routines syst\u00e8mes sont pour la plupart multi-plateformes.\n",
      "- Les librairies scientifiques ne sont pas encore incluses en standard.\n"
     ]
    },
    {
     "cell_type": "markdown",
     "metadata": {
      "slideshow": {
       "slide_type": "fragment"
      }
     },
     "source": [
      "Int\u00e9r\u00eat de la librairie standard: Ne pas programmer soi-m\u00eame des t\u00e2ches \"g\u00e9n\u00e9rales\"."
     ]
    },
    {
     "cell_type": "code",
     "collapsed": false,
     "input": [
      "from math import sqrt\n",
      "print sqrt(2)\n",
      "import os\n",
      "import os.path\n",
      "dossier = os.path.join(os.environ['HOME'], 'wdwg-python')\n",
      "print dossier\n",
      "print os.listdir(dossier)"
     ],
     "language": "python",
     "metadata": {
      "slideshow": {
       "slide_type": "subslide"
      }
     },
     "outputs": [
      {
       "output_type": "stream",
       "stream": "stdout",
       "text": [
        "1.41421356237\n",
        "/home/pierre/wdwg-python\n",
        "['prog.py']\n"
       ]
      }
     ],
     "prompt_number": 15
    },
    {
     "cell_type": "code",
     "collapsed": false,
     "input": [
      "import urllib\n",
      "download = urllib.urlopen('http://homepages.ulb.ac.be/~pdebuyl/pub/random_data.txt')\n",
      "print(len(download.read()))"
     ],
     "language": "python",
     "metadata": {
      "slideshow": {
       "slide_type": "subslide"
      }
     },
     "outputs": [
      {
       "output_type": "stream",
       "stream": "stdout",
       "text": [
        "255661\n"
       ]
      }
     ],
     "prompt_number": 17
    },
    {
     "cell_type": "heading",
     "level": 2,
     "metadata": {
      "slideshow": {
       "slide_type": "slide"
      }
     },
     "source": [
      "Programmation scientifique"
     ]
    },
    {
     "cell_type": "markdown",
     "metadata": {
      "slideshow": {
       "slide_type": "-"
      }
     },
     "source": [
      "\n",
      "Domaine \u00e0 part enti\u00e8re en informatique  \n",
      "\n",
      "- Origine: programmation en FORTRAN (FORmula TRANslating system).\n",
      "- Besoins sp\u00e9cifiques\n",
      "    - Utilisation de types num\u00e9riques (entiers, r\u00e9els, complexes).\n",
      "    - D\u00e9finition de fonctions scientifiques (racine carr\u00e9e, trigonom\u00e9trie, fonctions sp\u00e9ciales).\n",
      "    - Gestion de tableaux de donn\u00e9es (\"array\")."
     ]
    },
    {
     "cell_type": "markdown",
     "metadata": {
      "slideshow": {
       "slide_type": "subslide"
      }
     },
     "source": [
      "Success stories\n",
      "---------------\n",
      "\n",
      "- [LAPACK](http://www.netlib.org/lapack/)  \n",
      "  Librairie d'alg\u00e8bre lin\u00e9aire, utilis\u00e9e par *toutes* les plateformes scientifiques num\u00e9riques.\n",
      "- [FFTW](http://fftw.org/)  \n",
      "  Librairie pour transform\u00e9es de Fourier, usage extr\u00eamement r\u00e9pandu.\n",
      "- [ROOT](http://root.cern.ch/)  \n",
      "  Librarie scientifique d\u00e9velopp\u00e9e par le CERN pour l'analyse de donn\u00e9es en physique des hautes \u00e9nergies.\n",
      "- [Mathematica](http://www.wolfram.com/mathematica/)  \n",
      "  Environnement g\u00e9n\u00e9ral pour le calcul math\u00e9matique.\n",
      "- Et encore: [R](http://www.r-project.org/) - environnement sp\u00e9cialis\u00e9 en statistiques ; [MATLAB](http://www.mathworks.com/) - environnement num\u00e9rique g\u00e9n\u00e9ral ; [NumPy](http://www.numpy.org/), [SciPy](http://scipy.org/) et [matplotlib](http://matplotlib.org/) - environnement num\u00e9rique g\u00e9n\u00e9ral ; [FFTPACK](http://www.netlib.org/fftpack/), [odepack](http://www.netlib.org/odepack/), [quadpack](http://www.netlib.org/quadpack/) - routines FORTRAN pour integration num\u00e9rique et transform\u00e9es de Fourier."
     ]
    },
    {
     "cell_type": "heading",
     "level": 1,
     "metadata": {
      "slideshow": {
       "slide_type": "slide"
      }
     },
     "source": [
      "Utilisation scientifique"
     ]
    },
    {
     "cell_type": "markdown",
     "metadata": {},
     "source": [
      "Par d\u00e9faut, Python n'importe aucune librairie.\n",
      "\n",
      "Dans IPython, un raccourci permet de simplifier les choses:"
     ]
    },
    {
     "cell_type": "code",
     "collapsed": false,
     "input": [
      "%pylab inline"
     ],
     "language": "python",
     "metadata": {},
     "outputs": [
      {
       "output_type": "stream",
       "stream": "stdout",
       "text": [
        "Populating the interactive namespace from numpy and matplotlib\n"
       ]
      }
     ],
     "prompt_number": 1
    },
    {
     "cell_type": "heading",
     "level": 2,
     "metadata": {
      "slideshow": {
       "slide_type": "slide"
      }
     },
     "source": [
      "Premiers pas"
     ]
    },
    {
     "cell_type": "code",
     "collapsed": true,
     "input": [
      "plot(rand(100))"
     ],
     "language": "python",
     "metadata": {},
     "outputs": [
      {
       "metadata": {},
       "output_type": "pyout",
       "prompt_number": 4,
       "text": [
        "[<matplotlib.lines.Line2D at 0x42e1590>]"
       ]
      },
      {
       "metadata": {},
       "output_type": "display_data",
       "png": "[encoded data removed]",
       "text": [
        "<matplotlib.figure.Figure at 0x41bd950>"
       ]
      }
     ],
     "prompt_number": 4
    },
    {
     "cell_type": "heading",
     "level": 2,
     "metadata": {
      "slideshow": {
       "slide_type": "slide"
      }
     },
     "source": [
      "Cr\u00e9ation de donn\u00e9es"
     ]
    },
    {
     "cell_type": "code",
     "collapsed": false,
     "input": [
      "x = linspace(0, 4*pi, 100)\n",
      "plot(x, sin(x))\n",
      "xlabel(r'$x$', fontsize=18)\n",
      "ylabel(r'$\\sin(x)$', fontsize=18)"
     ],
     "language": "python",
     "metadata": {},
     "outputs": [
      {
       "metadata": {},
       "output_type": "pyout",
       "prompt_number": 9,
       "text": [
        "<matplotlib.text.Text at 0x4104290>"
       ]
      },
      {
       "metadata": {},
       "output_type": "display_data",
       "png": "[encoded data removed]",
       "text": [
        "<matplotlib.figure.Figure at 0x4dada10>"
       ]
      }
     ],
     "prompt_number": 9
    },
    {
     "cell_type": "markdown",
     "metadata": {
      "slideshow": {
       "slide_type": "subslide"
      }
     },
     "source": [
      "Les routines disponibles pour g\u00e9n\u00e9rer des donn\u00e9es sont: linspace, arange, zeros, ones, empty, random\n"
     ]
    },
    {
     "cell_type": "code",
     "collapsed": false,
     "input": [
      "for f in [arange, zeros, ones, empty, rand]:\n",
      "    print f(3)"
     ],
     "language": "python",
     "metadata": {},
     "outputs": [
      {
       "output_type": "stream",
       "stream": "stdout",
       "text": [
        "[0 1 2]\n",
        "[ 0.  0.  0.]\n",
        "[ 1.  1.  1.]\n",
        "[  3.84862435e-316   3.95252517e-323   9.88131292e-324]\n",
        "[ 0.69990182  0.65683454  0.43688542]\n"
       ]
      }
     ],
     "prompt_number": 18
    },
    {
     "cell_type": "markdown",
     "metadata": {
      "slideshow": {
       "slide_type": "fragment"
      }
     },
     "source": [
      "Note: en Python, les fonctions sont des variables comme les autres."
     ]
    },
    {
     "cell_type": "markdown",
     "metadata": {
      "slideshow": {
       "slide_type": "subslide"
      }
     },
     "source": [
      "Il est possible de cr\u00e9er des tableaux arbitraires en convertissant des listes avec la commande array."
     ]
    },
    {
     "cell_type": "code",
     "collapsed": false,
     "input": [
      "arbitrary_data = []\n",
      "arbitrary_data.append(3)\n",
      "arbitrary_data.append(rand())\n",
      "for i in range(1,4,2):\n",
      "    arbitrary_data.append(i)\n",
      "    arbitrary_data.append(i**2)\n",
      "arbitrary_data = array(arbitrary_data)\n",
      "print arbitrary_data"
     ],
     "language": "python",
     "metadata": {},
     "outputs": [
      {
       "output_type": "stream",
       "stream": "stdout",
       "text": [
        "[ 3.          0.18997654  1.          1.          3.          9.        ]\n"
       ]
      }
     ],
     "prompt_number": 25
    },
    {
     "cell_type": "markdown",
     "metadata": {
      "slideshow": {
       "slide_type": "slide"
      }
     },
     "source": [
      "Lecture de donn\u00e9es\n",
      "------------------\n"
     ]
    },
    {
     "cell_type": "code",
     "collapsed": false,
     "input": [
      "import csv\n",
      "reader = csv.reader(open('csvdata.csv'))\n",
      "x = [] ; y = []\n",
      "for row in reader:\n",
      "    x.append(float(row[0]))\n",
      "    y.append(float(row[1]))\n",
      "plot(x,y)\n",
      "x, y = loadtxt('csvdata.csv', delimiter=',', unpack=True)\n",
      "plot(x,y)"
     ],
     "language": "python",
     "metadata": {},
     "outputs": [
      {
       "metadata": {},
       "output_type": "pyout",
       "prompt_number": 103,
       "text": [
        "[<matplotlib.lines.Line2D at 0xbc261d0>]"
       ]
      },
      {
       "metadata": {},
       "output_type": "display_data",
       "png": "[encoded data removed]",
       "text": [
        "<matplotlib.figure.Figure at 0xb874290>"
       ]
      }
     ],
     "prompt_number": 103
    },
    {
     "cell_type": "markdown",
     "metadata": {
      "slideshow": {
       "slide_type": "slide"
      }
     },
     "source": [
      "Manipulation de donn\u00e9es\n",
      "-----------------------\n",
      "\n",
      "- Un aspect de la programmation num\u00e9riques est l'usage de *tableaux de donn\u00e9es* (valeurs lues d'un fichiers, matrices, etc.).\n",
      "- La librairie numpy d\u00e9fninit un type de donn\u00e9es sp\u00e9cialis\u00e9: le ndarray\n",
      "    - Type de donn\u00e9es fixe.\n",
      "    - Les dimensions font partie de la description.\n",
      "    - Les ndarray permettent d'\u00e9changer des donn\u00e9es entre la plupart des librairies scientifiques Python.\n"
     ]
    },
    {
     "cell_type": "code",
     "collapsed": false,
     "input": [
      "a = arange(6).reshape((3,2))\n",
      "print a.dtype\n",
      "print a.shape\n",
      "print a.ndim\n",
      "print a"
     ],
     "language": "python",
     "metadata": {},
     "outputs": [
      {
       "output_type": "stream",
       "stream": "stdout",
       "text": [
        "int64\n",
        "(3, 2)\n",
        "2\n",
        "[[0 1]\n",
        " [2 3]\n",
        " [4 5]]\n"
       ]
      }
     ],
     "prompt_number": 32
    },
    {
     "cell_type": "markdown",
     "metadata": {
      "slideshow": {
       "slide_type": "subslide"
      }
     },
     "source": [
      "Les ndarray sont les \u00e9l\u00e9ments de base du calcul vectoriel"
     ]
    },
    {
     "cell_type": "code",
     "collapsed": false,
     "input": [
      "b = a**2\n",
      "c = a+b\n",
      "print b\n",
      "print c"
     ],
     "language": "python",
     "metadata": {},
     "outputs": [
      {
       "output_type": "stream",
       "stream": "stdout",
       "text": [
        "[[ 0  1]\n",
        " [ 4  9]\n",
        " [16 25]]\n",
        "[[ 0  2]\n",
        " [ 6 12]\n",
        " [20 30]]\n"
       ]
      }
     ],
     "prompt_number": 35
    },
    {
     "cell_type": "code",
     "collapsed": false,
     "input": [
      "# Cr\u00e9er un tableau de 100 \u00e9l\u00e9ments avec pas de 0.1\n",
      "dx = 0.1\n",
      "x = arange(100)*dx\n",
      "plot(x, sin(x), label=r'$\\sin(x)$')\n",
      "plot(x, 1-cos(x), label=r'$1 - \\cos(x)$')\n",
      "int_sin_x = cumsum(sin(x))*dx\n",
      "plot(x, int_sin_x, label=r'$\\int_0^x \\sin(x)$')\n",
      "#plot((x[1:]+x[:-1])*0.5, int_sin_x[:-1], label=r'$\\int_0^x \\sin(x)$')\n",
      "legend()"
     ],
     "language": "python",
     "metadata": {
      "slideshow": {
       "slide_type": "subslide"
      }
     },
     "outputs": [
      {
       "metadata": {},
       "output_type": "pyout",
       "prompt_number": 45,
       "text": [
        "<matplotlib.legend.Legend at 0x62d6b50>"
       ]
      },
      {
       "metadata": {},
       "output_type": "display_data",
       "png": "[encoded data removed]",
       "text": [
        "<matplotlib.figure.Figure at 0x55dd2d0>"
       ]
      }
     ],
     "prompt_number": 45
    },
    {
     "cell_type": "heading",
     "level": 2,
     "metadata": {
      "slideshow": {
       "slide_type": "slide"
      }
     },
     "source": [
      "Broadcasting"
     ]
    },
    {
     "cell_type": "markdown",
     "metadata": {},
     "source": [
      "\n",
      "- Le broadcasting consiste \u00e0 remplir automatiquement les dimensions \"manquantes\" d'un tableau de donn\u00e9es.\n",
      "- Usage typique: coordonn\u00e9es x,y,z dans un contexte de donn\u00e9es de surface (2D) ou de volume (3D).\n",
      "- Ci-dessous: nombre de points en m\u00e9moire pour x et y: 100+100=200. Sans broadcasting: 2\\*100\\*100=20000. Pas de changement pour \"x+4\\*y\\*\\*2\""
     ]
    },
    {
     "cell_type": "code",
     "collapsed": false,
     "input": [
      "x = linspace(0,10,100).reshape((1, -1))\n",
      "y = -0.5 + linspace(0,1,100).reshape((-1, 1))\n",
      "pcolor(x+4*y**2)"
     ],
     "language": "python",
     "metadata": {},
     "outputs": [],
     "prompt_number": 71
    },
    {
     "cell_type": "markdown",
     "metadata": {
      "slideshow": {
       "slide_type": "slide"
      }
     },
     "source": [
      "Performance des op\u00e9rations sur ndarray\n",
      "--------------------------------------\n",
      "\n",
      "Les op\u00e9rations vectorielles cr\u00e9ent des tableaux temporaires et n\u00e9cessitent une allocation m\u00e9moire.\n",
      "Pour des tableaux de grande taille, il y a un impact sur les performances et l'usage m\u00e9moire."
     ]
    },
    {
     "cell_type": "code",
     "collapsed": true,
     "input": [
      "a = rand(1000,1000) ; b = rand(1000,1000) ; c = rand(1000,1000)\n",
      "%timeit G=a*b+c\n",
      "%timeit multiply(a,b,a) ; add(a,c,a)"
     ],
     "language": "python",
     "metadata": {},
     "outputs": [],
     "prompt_number": 88
    },
    {
     "cell_type": "code",
     "collapsed": false,
     "input": [
      "a = rand(1000,1000) ; b = rand(1000,1000) ; c = rand(1000,1000)\n",
      "G = a*b+c\n",
      "multiply(a,b,a)\n",
      "add(a,c,a)\n",
      "allclose(G,a)"
     ],
     "language": "python",
     "metadata": {},
     "outputs": [],
     "prompt_number": 88
    },
    {
     "cell_type": "heading",
     "level": 2,
     "metadata": {
      "slideshow": {
       "slide_type": "slide"
      }
     },
     "source": [
      "Utilisez l'aide!"
     ]
    },
    {
     "cell_type": "markdown",
     "metadata": {},
     "source": [
      "IPython fournit de l'aide \"\u00e0 la demande\""
     ]
    },
    {
     "cell_type": "code",
     "collapsed": false,
     "input": [
      "plot?"
     ],
     "language": "python",
     "metadata": {},
     "outputs": [],
     "prompt_number": 49
    },
    {
     "cell_type": "markdown",
     "metadata": {},
     "source": [
      "Exercice:\n",
      "\n",
      "A l'aide de la commande \"contour\", r\u00e9aliser un contour avec 5 niveaux pour la fonction sin(x)\\*sin(y) avec $x \\in [0:4 \\pi]$ et $y \\in [0:4\\pi]$, un affichage correct des axes (valeurs) et une colorisation en niveaux de gris."
     ]
    },
    {
     "cell_type": "code",
     "collapsed": false,
     "input": [
      "x_axis = linspace(0, 4*pi, 100).reshape((-1, 1))\n",
      "y_axis = linspace(0, 4*pi, 100).reshape((1, -1))\n",
      "z = sin(x_axis)*sin(y_axis)\n",
      "contour(z, 5, extent=[0,4*pi,0,4*pi], cmap=cm.gray)"
     ],
     "language": "python",
     "metadata": {
      "slideshow": {
       "slide_type": "skip"
      }
     },
     "outputs": [],
     "prompt_number": 70
    },
    {
     "cell_type": "heading",
     "level": 2,
     "metadata": {},
     "source": [
      "Utilisez la documentation!"
     ]
    },
    {
     "cell_type": "markdown",
     "metadata": {},
     "source": [
      "\n",
      "- [docs Python 2.7](http://docs.python.org/2.7/)\n",
      "- [docs SciPy](http://docs.scipy.org/)\n",
      "- [matplotlib](http://matplotlib.org/contents.html)\n",
      "- [Python Scientific Lecture Notes](http://scipy-lectures.github.io/)"
     ]
    },
    {
     "cell_type": "markdown",
     "metadata": {
      "slideshow": {
       "slide_type": "slide"
      }
     },
     "source": [
      "Exercice: diff\u00e9rentiation\n",
      "-------------------------\n",
      "\n",
      "- Calculez, pour $x\\in [0:2 pi]$, la d\u00e9riv\u00e9e num\u00e9rique centr\u00e9e de $y=\\sin(x)$\n",
      "$$ y'_i = \\frac{ y_{i+1} - y_{i-1} }{2 dx}$$\n",
      "- R\u00e9alisez l'op\u00e9ration avec la notation vectorielle.\n",
      "- Afficher le r\u00e9sultat avec la commande plot, avec une abscisse normalis\u00e9e par rapport \u00e0 $\\pi$.\n",
      "- Comparer avec la solution connue.\n",
      "- Remarque: en \"d\u00e9coupant\" y, vous perdez deux points de donn\u00e9es."
     ]
    },
    {
     "cell_type": "code",
     "collapsed": false,
     "input": [
      "Nx = 100\n",
      "dx = 2*pi/Nx\n",
      "x = arange(Nx)*dx\n",
      "y = sin(x)\n",
      "\n",
      "plot(x[1:-1]/pi, 0.5*(y[2:]-y[:-2])/dx)\n",
      "plot(x/pi, cos(x))"
     ],
     "language": "python",
     "metadata": {
      "slideshow": {
       "slide_type": "skip"
      }
     },
     "outputs": [],
     "prompt_number": 69
    },
    {
     "cell_type": "heading",
     "level": 1,
     "metadata": {
      "slideshow": {
       "slide_type": "slide"
      }
     },
     "source": [
      "Quelques sujets avanc\u00e9s"
     ]
    },
    {
     "cell_type": "markdown",
     "metadata": {},
     "source": [
      "- Performances\n",
      "- Visualisation 3D\n",
      "- Contr\u00f4le de r\u00e9vision\n",
      "- Cr\u00e9ation de programmes"
     ]
    },
    {
     "cell_type": "markdown",
     "metadata": {
      "slideshow": {
       "slide_type": "slide"
      }
     },
     "source": [
      "Performance\n",
      "-----------\n",
      "\n",
      "- Les op\u00e9rations vectorielles ne sont pas adapt\u00e9es \u00e0 toutes les situations.\n",
      "- Pour certaines op\u00e9rations, un code compil\u00e9 reste imbattable: soit via un programme ext\u00e9rieur, soit int\u00e9gr\u00e9 \u00e0 Python.\n",
      "- L'exemple qui suit est l'[application logistique](https://en.wikipedia.org/wiki/Logistic_map): $x_{i+1} = \\mu x_{i} \\left( 1 - x_{i} \\right)$\n",
      "- L'exemple utilise [Cython](http://cython.org/), un hybride Python/C qui optimise automatiquement certaines op\u00e9rations."
     ]
    },
    {
     "cell_type": "code",
     "collapsed": false,
     "input": [
      "%load_ext cythonmagic"
     ],
     "language": "python",
     "metadata": {},
     "outputs": [],
     "prompt_number": 104
    },
    {
     "cell_type": "code",
     "collapsed": false,
     "input": [
      "%%cython\n",
      "cimport cython\n",
      "cimport numpy as np\n",
      "\n",
      "@cython.boundscheck(False)\n",
      "@cython.wraparound(False)\n",
      "def fast_map(double x0, double mu, np.ndarray[np.float64_t, ndim=1] x):\n",
      "    cdef int i, N\n",
      "    cdef double x_var\n",
      "    x_var = x0\n",
      "    x[0]=x_var\n",
      "    N = x.shape[0]\n",
      "    for i in range(1,N):\n",
      "        x_var = mu*x_var*(1.-x_var)\n",
      "        x[i]= x_var\n"
     ],
     "language": "python",
     "metadata": {
      "slideshow": {
       "slide_type": "slide"
      }
     },
     "outputs": [],
     "prompt_number": 110
    },
    {
     "cell_type": "code",
     "collapsed": false,
     "input": [
      "def py_map(x0, mu, x):\n",
      "    x_var = x0\n",
      "    x[0] = x_var\n",
      "    for i in range(1, len(x)):\n",
      "        x_var = x_var*mu*(1.-x_var)\n",
      "        x[i] = x_var\n",
      "\n",
      "x_cy = empty(100)\n",
      "%timeit fast_map(0.1, 3.9, x_cy)\n",
      "x_py = empty(100)\n",
      "%timeit py_map(0.1, 3.9, x_py)\n",
      "plot(x_cy)\n",
      "plot(x_py)"
     ],
     "language": "python",
     "metadata": {
      "slideshow": {
       "slide_type": "subslide"
      }
     },
     "outputs": [
      {
       "output_type": "stream",
       "stream": "stdout",
       "text": [
        "1000000 loops, best of 3: 1.52 \u00b5s per loop\n",
        "10000 loops, best of 3: 38.7 \u00b5s per loop"
       ]
      },
      {
       "output_type": "stream",
       "stream": "stdout",
       "text": [
        "\n"
       ]
      },
      {
       "metadata": {},
       "output_type": "pyout",
       "prompt_number": 123,
       "text": [
        "[<matplotlib.lines.Line2D at 0xc57a290>]"
       ]
      },
      {
       "metadata": {},
       "output_type": "display_data",
       "png": "[encoded data removed]",
       "text": [
        "<matplotlib.figure.Figure at 0xdbfad90>"
       ]
      }
     ],
     "prompt_number": 123
    }
   ],
   "metadata": {}
  }
 ]
}